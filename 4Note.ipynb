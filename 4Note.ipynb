{
  "nbformat": 4,
  "nbformat_minor": 0,
  "metadata": {
    "colab": {
      "name": "4Note.ipynb",
      "provenance": []
    },
    "kernelspec": {
      "name": "python3",
      "display_name": "Python 3"
    },
    "language_info": {
      "name": "python"
    }
  },
  "cells": [
    {
      "cell_type": "code",
      "execution_count": 1,
      "metadata": {
        "colab": {
          "base_uri": "https://localhost:8080/"
        },
        "id": "Ur2yWK9mtkMb",
        "outputId": "e3f78414-9be4-42c2-f495-8163c1b5d4ef"
      },
      "outputs": [
        {
          "output_type": "stream",
          "name": "stderr",
          "text": [
            "/usr/local/lib/python3.7/dist-packages/statsmodels/tools/_testing.py:19: FutureWarning: pandas.util.testing is deprecated. Use the functions in the public API at pandas.testing instead.\n",
            "  import pandas.util.testing as tm\n"
          ]
        }
      ],
      "source": [
        "import pandas as pd\n",
        "import numpy as np\n",
        "import matplotlib.pyplot as plt"
      ]
    },
    {
      "cell_type": "code",
      "source": [
        "df = pd.read_csv('/content/drive/MyDrive/usdrub.csv', index_col='date', \n",
        "                 parse_dates=['date'])\n",
        "df.head()"
      ],
      "metadata": {
        "colab": {
          "base_uri": "https://localhost:8080/",
          "height": 238
        },
        "id": "gmM8xqTouCWa",
        "outputId": "910a8251-aced-4c70-a0e1-1bc259e9ad95"
      },
      "execution_count": 2,
      "outputs": [
        {
          "output_type": "execute_result",
          "data": {
            "text/html": [
              "\n",
              "  <div id=\"df-597fe08d-0626-4306-9d59-2ab26e3bdc30\">\n",
              "    <div class=\"colab-df-container\">\n",
              "      <div>\n",
              "<style scoped>\n",
              "    .dataframe tbody tr th:only-of-type {\n",
              "        vertical-align: middle;\n",
              "    }\n",
              "\n",
              "    .dataframe tbody tr th {\n",
              "        vertical-align: top;\n",
              "    }\n",
              "\n",
              "    .dataframe thead th {\n",
              "        text-align: right;\n",
              "    }\n",
              "</style>\n",
              "<table border=\"1\" class=\"dataframe\">\n",
              "  <thead>\n",
              "    <tr style=\"text-align: right;\">\n",
              "      <th></th>\n",
              "      <th>open</th>\n",
              "      <th>high</th>\n",
              "      <th>low</th>\n",
              "      <th>close</th>\n",
              "    </tr>\n",
              "    <tr>\n",
              "      <th>date</th>\n",
              "      <th></th>\n",
              "      <th></th>\n",
              "      <th></th>\n",
              "      <th></th>\n",
              "    </tr>\n",
              "  </thead>\n",
              "  <tbody>\n",
              "    <tr>\n",
              "      <th>1999-06-29</th>\n",
              "      <td>24.3000</td>\n",
              "      <td>24.350</td>\n",
              "      <td>24.200</td>\n",
              "      <td>24.2249</td>\n",
              "    </tr>\n",
              "    <tr>\n",
              "      <th>1999-06-30</th>\n",
              "      <td>24.2201</td>\n",
              "      <td>24.224</td>\n",
              "      <td>24.201</td>\n",
              "      <td>24.2100</td>\n",
              "    </tr>\n",
              "    <tr>\n",
              "      <th>1999-07-01</th>\n",
              "      <td>24.2100</td>\n",
              "      <td>24.220</td>\n",
              "      <td>24.202</td>\n",
              "      <td>24.2150</td>\n",
              "    </tr>\n",
              "    <tr>\n",
              "      <th>1999-07-02</th>\n",
              "      <td>24.2200</td>\n",
              "      <td>24.460</td>\n",
              "      <td>24.220</td>\n",
              "      <td>24.3500</td>\n",
              "    </tr>\n",
              "    <tr>\n",
              "      <th>1999-07-06</th>\n",
              "      <td>24.4000</td>\n",
              "      <td>24.550</td>\n",
              "      <td>24.300</td>\n",
              "      <td>24.4850</td>\n",
              "    </tr>\n",
              "  </tbody>\n",
              "</table>\n",
              "</div>\n",
              "      <button class=\"colab-df-convert\" onclick=\"convertToInteractive('df-597fe08d-0626-4306-9d59-2ab26e3bdc30')\"\n",
              "              title=\"Convert this dataframe to an interactive table.\"\n",
              "              style=\"display:none;\">\n",
              "        \n",
              "  <svg xmlns=\"http://www.w3.org/2000/svg\" height=\"24px\"viewBox=\"0 0 24 24\"\n",
              "       width=\"24px\">\n",
              "    <path d=\"M0 0h24v24H0V0z\" fill=\"none\"/>\n",
              "    <path d=\"M18.56 5.44l.94 2.06.94-2.06 2.06-.94-2.06-.94-.94-2.06-.94 2.06-2.06.94zm-11 1L8.5 8.5l.94-2.06 2.06-.94-2.06-.94L8.5 2.5l-.94 2.06-2.06.94zm10 10l.94 2.06.94-2.06 2.06-.94-2.06-.94-.94-2.06-.94 2.06-2.06.94z\"/><path d=\"M17.41 7.96l-1.37-1.37c-.4-.4-.92-.59-1.43-.59-.52 0-1.04.2-1.43.59L10.3 9.45l-7.72 7.72c-.78.78-.78 2.05 0 2.83L4 21.41c.39.39.9.59 1.41.59.51 0 1.02-.2 1.41-.59l7.78-7.78 2.81-2.81c.8-.78.8-2.07 0-2.86zM5.41 20L4 18.59l7.72-7.72 1.47 1.35L5.41 20z\"/>\n",
              "  </svg>\n",
              "      </button>\n",
              "      \n",
              "  <style>\n",
              "    .colab-df-container {\n",
              "      display:flex;\n",
              "      flex-wrap:wrap;\n",
              "      gap: 12px;\n",
              "    }\n",
              "\n",
              "    .colab-df-convert {\n",
              "      background-color: #E8F0FE;\n",
              "      border: none;\n",
              "      border-radius: 50%;\n",
              "      cursor: pointer;\n",
              "      display: none;\n",
              "      fill: #1967D2;\n",
              "      height: 32px;\n",
              "      padding: 0 0 0 0;\n",
              "      width: 32px;\n",
              "    }\n",
              "\n",
              "    .colab-df-convert:hover {\n",
              "      background-color: #E2EBFA;\n",
              "      box-shadow: 0px 1px 2px rgba(60, 64, 67, 0.3), 0px 1px 3px 1px rgba(60, 64, 67, 0.15);\n",
              "      fill: #174EA6;\n",
              "    }\n",
              "\n",
              "    [theme=dark] .colab-df-convert {\n",
              "      background-color: #3B4455;\n",
              "      fill: #D2E3FC;\n",
              "    }\n",
              "\n",
              "    [theme=dark] .colab-df-convert:hover {\n",
              "      background-color: #434B5C;\n",
              "      box-shadow: 0px 1px 3px 1px rgba(0, 0, 0, 0.15);\n",
              "      filter: drop-shadow(0px 1px 2px rgba(0, 0, 0, 0.3));\n",
              "      fill: #FFFFFF;\n",
              "    }\n",
              "  </style>\n",
              "\n",
              "      <script>\n",
              "        const buttonEl =\n",
              "          document.querySelector('#df-597fe08d-0626-4306-9d59-2ab26e3bdc30 button.colab-df-convert');\n",
              "        buttonEl.style.display =\n",
              "          google.colab.kernel.accessAllowed ? 'block' : 'none';\n",
              "\n",
              "        async function convertToInteractive(key) {\n",
              "          const element = document.querySelector('#df-597fe08d-0626-4306-9d59-2ab26e3bdc30');\n",
              "          const dataTable =\n",
              "            await google.colab.kernel.invokeFunction('convertToInteractive',\n",
              "                                                     [key], {});\n",
              "          if (!dataTable) return;\n",
              "\n",
              "          const docLinkHtml = 'Like what you see? Visit the ' +\n",
              "            '<a target=\"_blank\" href=https://colab.research.google.com/notebooks/data_table.ipynb>data table notebook</a>'\n",
              "            + ' to learn more about interactive tables.';\n",
              "          element.innerHTML = '';\n",
              "          dataTable['output_type'] = 'display_data';\n",
              "          await google.colab.output.renderOutput(dataTable, element);\n",
              "          const docLink = document.createElement('div');\n",
              "          docLink.innerHTML = docLinkHtml;\n",
              "          element.appendChild(docLink);\n",
              "        }\n",
              "      </script>\n",
              "    </div>\n",
              "  </div>\n",
              "  "
            ],
            "text/plain": [
              "               open    high     low    close\n",
              "date                                        \n",
              "1999-06-29  24.3000  24.350  24.200  24.2249\n",
              "1999-06-30  24.2201  24.224  24.201  24.2100\n",
              "1999-07-01  24.2100  24.220  24.202  24.2150\n",
              "1999-07-02  24.2200  24.460  24.220  24.3500\n",
              "1999-07-06  24.4000  24.550  24.300  24.4850"
            ]
          },
          "metadata": {},
          "execution_count": 2
        }
      ]
    },
    {
      "cell_type": "code",
      "source": [
        "max_cl = df.close.max()\n",
        "min_cl = df.close.min()\n",
        "print(min_cl, max_cl)"
      ],
      "metadata": {
        "colab": {
          "base_uri": "https://localhost:8080/"
        },
        "id": "fuVNsc_IuaBv",
        "outputId": "b78f2dab-de24-4bf8-c2fc-44377e06fbe8"
      },
      "execution_count": 3,
      "outputs": [
        {
          "output_type": "stream",
          "name": "stdout",
          "text": [
            "23.0855 83.764\n"
          ]
        }
      ]
    },
    {
      "cell_type": "code",
      "source": [
        "df['cl'] = (df.close - min_cl) / max_cl\n",
        "df.cl.describe()"
      ],
      "metadata": {
        "colab": {
          "base_uri": "https://localhost:8080/"
        },
        "id": "REYVhEZdu9aP",
        "outputId": "1d1809c4-15bf-4675-a4ee-c46e5dee25af"
      },
      "execution_count": 4,
      "outputs": [
        {
          "output_type": "execute_result",
          "data": {
            "text/plain": [
              "count    5323.000000\n",
              "mean        0.211002\n",
              "std         0.206289\n",
              "min         0.000000\n",
              "25%         0.064879\n",
              "50%         0.095697\n",
              "75%         0.430922\n",
              "max         0.724398\n",
              "Name: cl, dtype: float64"
            ]
          },
          "metadata": {},
          "execution_count": 4
        }
      ]
    },
    {
      "cell_type": "code",
      "source": [
        "df.cl.plot(figsize=(24, 6))"
      ],
      "metadata": {
        "colab": {
          "base_uri": "https://localhost:8080/",
          "height": 384
        },
        "id": "j-obDKgZJ1KR",
        "outputId": "3979c783-0f82-4a92-f56f-2c5344544d55"
      },
      "execution_count": 5,
      "outputs": [
        {
          "output_type": "execute_result",
          "data": {
            "text/plain": [
              "<matplotlib.axes._subplots.AxesSubplot at 0x7efec76984d0>"
            ]
          },
          "metadata": {},
          "execution_count": 5
        },
        {
          "output_type": "display_data",
          "data": {
            "image/png": "[encoded data removed]",
            "text/plain": [
              "<Figure size 1728x432 with 1 Axes>"
            ]
          },
          "metadata": {
            "needs_background": "light"
          }
        }
      ]
    },
    {
      "cell_type": "code",
      "source": [
        "df['result'] = df.close - df.open\n",
        "df.result.describe()"
      ],
      "metadata": {
        "colab": {
          "base_uri": "https://localhost:8080/"
        },
        "id": "CgLaRlNbvbBI",
        "outputId": "f62d43c5-23d9-4647-9bb3-55f9a9cf9ea8"
      },
      "execution_count": 6,
      "outputs": [
        {
          "output_type": "execute_result",
          "data": {
            "text/plain": [
              "count    5323.000000\n",
              "mean        0.002567\n",
              "std         0.358177\n",
              "min        -5.060000\n",
              "25%        -0.060000\n",
              "50%        -0.000100\n",
              "75%         0.057400\n",
              "max        12.500000\n",
              "Name: result, dtype: float64"
            ]
          },
          "metadata": {},
          "execution_count": 6
        }
      ]
    },
    {
      "cell_type": "code",
      "source": [
        "df['positive'] = 1\n",
        "df.loc[df.result < 0, 'positive'] = 0\n",
        "df.positive.value_counts()"
      ],
      "metadata": {
        "colab": {
          "base_uri": "https://localhost:8080/"
        },
        "id": "opBuKGUpzfEY",
        "outputId": "29f6dcb9-4227-44fa-90c1-261bfb72294b"
      },
      "execution_count": 7,
      "outputs": [
        {
          "output_type": "execute_result",
          "data": {
            "text/plain": [
              "0    2675\n",
              "1    2648\n",
              "Name: positive, dtype: int64"
            ]
          },
          "metadata": {},
          "execution_count": 7
        }
      ]
    },
    {
      "cell_type": "code",
      "source": [
        "df['volatility'] = df.high - df.low\n",
        "df.volatility.describe()"
      ],
      "metadata": {
        "colab": {
          "base_uri": "https://localhost:8080/"
        },
        "id": "eEpEXsKLyqby",
        "outputId": "0fe38fe5-e717-4b8f-f16c-8d66385de6fd"
      },
      "execution_count": 8,
      "outputs": [
        {
          "output_type": "execute_result",
          "data": {
            "text/plain": [
              "count    5323.000000\n",
              "mean        0.317250\n",
              "std         0.572785\n",
              "min         0.000500\n",
              "25%         0.047450\n",
              "50%         0.146000\n",
              "75%         0.410000\n",
              "max        22.037500\n",
              "Name: volatility, dtype: float64"
            ]
          },
          "metadata": {},
          "execution_count": 8
        }
      ]
    },
    {
      "cell_type": "code",
      "source": [
        "df['vol'] = df.volatility / df.high\n",
        "df.vol.describe()"
      ],
      "metadata": {
        "colab": {
          "base_uri": "https://localhost:8080/"
        },
        "id": "4SGiqgMy5hWD",
        "outputId": "55fd3154-e20d-48f1-f8df-6da8b0626c8f"
      },
      "execution_count": 9,
      "outputs": [
        {
          "output_type": "execute_result",
          "data": {
            "text/plain": [
              "count    5323.000000\n",
              "mean        0.006231\n",
              "std         0.008432\n",
              "min         0.000016\n",
              "25%         0.001672\n",
              "50%         0.004453\n",
              "75%         0.007929\n",
              "max         0.274782\n",
              "Name: vol, dtype: float64"
            ]
          },
          "metadata": {},
          "execution_count": 9
        }
      ]
    },
    {
      "cell_type": "code",
      "source": [
        "df.vol.plot(figsize=(24, 6))"
      ],
      "metadata": {
        "colab": {
          "base_uri": "https://localhost:8080/",
          "height": 384
        },
        "id": "lMxYJUrT7MOv",
        "outputId": "19d70961-3a3c-4687-89fe-b146c814fc1a"
      },
      "execution_count": 10,
      "outputs": [
        {
          "output_type": "execute_result",
          "data": {
            "text/plain": [
              "<matplotlib.axes._subplots.AxesSubplot at 0x7efec7532c10>"
            ]
          },
          "metadata": {},
          "execution_count": 10
        },
        {
          "output_type": "display_data",
          "data": {
            "image/png": "[encoded data removed]",
            "text/plain": [
              "<Figure size 1728x432 with 1 Axes>"
            ]
          },
          "metadata": {
            "needs_background": "light"
          }
        }
      ]
    },
    {
      "cell_type": "code",
      "source": [
        "df.vol.hist(figsize=(24, 6), bins=100)"
      ],
      "metadata": {
        "colab": {
          "base_uri": "https://localhost:8080/",
          "height": 391
        },
        "id": "EP2bGgzi7l_R",
        "outputId": "aa7b55e0-656b-4f19-9d1a-580c71a6e82a"
      },
      "execution_count": 11,
      "outputs": [
        {
          "output_type": "execute_result",
          "data": {
            "text/plain": [
              "<matplotlib.axes._subplots.AxesSubplot at 0x7efec7037590>"
            ]
          },
          "metadata": {},
          "execution_count": 11
        },
        {
          "output_type": "display_data",
          "data": {
            "image/png": "[encoded data removed]",
            "text/plain": [
              "<Figure size 1728x432 with 1 Axes>"
            ]
          },
          "metadata": {
            "needs_background": "light"
          }
        }
      ]
    },
    {
      "cell_type": "code",
      "source": [
        "df['res'] = df.result.abs() / df.volatility\n",
        "df.res.describe()"
      ],
      "metadata": {
        "colab": {
          "base_uri": "https://localhost:8080/"
        },
        "id": "vL1X-FZ8dTWm",
        "outputId": "f16c9783-2f6c-4245-c8fc-2e24ff443951"
      },
      "execution_count": 12,
      "outputs": [
        {
          "output_type": "execute_result",
          "data": {
            "text/plain": [
              "count    5323.000000\n",
              "mean        0.488532\n",
              "std         0.277138\n",
              "min         0.000000\n",
              "25%         0.259033\n",
              "50%         0.493274\n",
              "75%         0.714286\n",
              "max         1.000000\n",
              "Name: res, dtype: float64"
            ]
          },
          "metadata": {},
          "execution_count": 12
        }
      ]
    },
    {
      "cell_type": "code",
      "source": [
        "df.corr()"
      ],
      "metadata": {
        "colab": {
          "base_uri": "https://localhost:8080/",
          "height": 363
        },
        "id": "1YFX3u9heaTS",
        "outputId": "12acc25b-8c01-4910-a7f5-d4577e52f0cb"
      },
      "execution_count": 13,
      "outputs": [
        {
          "output_type": "execute_result",
          "data": {
            "text/html": [
              "\n",
              "  <div id=\"df-082f78e5-d78c-4e53-869e-5ca7dabf9549\">\n",
              "    <div class=\"colab-df-container\">\n",
              "      <div>\n",
              "<style scoped>\n",
              "    .dataframe tbody tr th:only-of-type {\n",
              "        vertical-align: middle;\n",
              "    }\n",
              "\n",
              "    .dataframe tbody tr th {\n",
              "        vertical-align: top;\n",
              "    }\n",
              "\n",
              "    .dataframe thead th {\n",
              "        text-align: right;\n",
              "    }\n",
              "</style>\n",
              "<table border=\"1\" class=\"dataframe\">\n",
              "  <thead>\n",
              "    <tr style=\"text-align: right;\">\n",
              "      <th></th>\n",
              "      <th>open</th>\n",
              "      <th>high</th>\n",
              "      <th>low</th>\n",
              "      <th>close</th>\n",
              "      <th>cl</th>\n",
              "      <th>result</th>\n",
              "      <th>positive</th>\n",
              "      <th>volatility</th>\n",
              "      <th>vol</th>\n",
              "      <th>res</th>\n",
              "    </tr>\n",
              "  </thead>\n",
              "  <tbody>\n",
              "    <tr>\n",
              "      <th>open</th>\n",
              "      <td>1.000000</td>\n",
              "      <td>0.999749</td>\n",
              "      <td>0.999876</td>\n",
              "      <td>0.999785</td>\n",
              "      <td>0.999785</td>\n",
              "      <td>-0.000861</td>\n",
              "      <td>-0.033779</td>\n",
              "      <td>0.521131</td>\n",
              "      <td>0.408585</td>\n",
              "      <td>-0.078930</td>\n",
              "    </tr>\n",
              "    <tr>\n",
              "      <th>high</th>\n",
              "      <td>0.999749</td>\n",
              "      <td>1.000000</td>\n",
              "      <td>0.999602</td>\n",
              "      <td>0.999868</td>\n",
              "      <td>0.999868</td>\n",
              "      <td>0.015274</td>\n",
              "      <td>-0.028421</td>\n",
              "      <td>0.536984</td>\n",
              "      <td>0.424116</td>\n",
              "      <td>-0.077823</td>\n",
              "    </tr>\n",
              "    <tr>\n",
              "      <th>low</th>\n",
              "      <td>0.999876</td>\n",
              "      <td>0.999602</td>\n",
              "      <td>1.000000</td>\n",
              "      <td>0.999829</td>\n",
              "      <td>0.999829</td>\n",
              "      <td>0.007226</td>\n",
              "      <td>-0.029019</td>\n",
              "      <td>0.512973</td>\n",
              "      <td>0.399627</td>\n",
              "      <td>-0.079806</td>\n",
              "    </tr>\n",
              "    <tr>\n",
              "      <th>close</th>\n",
              "      <td>0.999785</td>\n",
              "      <td>0.999868</td>\n",
              "      <td>0.999829</td>\n",
              "      <td>1.000000</td>\n",
              "      <td>1.000000</td>\n",
              "      <td>0.019867</td>\n",
              "      <td>-0.024632</td>\n",
              "      <td>0.526184</td>\n",
              "      <td>0.412768</td>\n",
              "      <td>-0.078812</td>\n",
              "    </tr>\n",
              "    <tr>\n",
              "      <th>cl</th>\n",
              "      <td>0.999785</td>\n",
              "      <td>0.999868</td>\n",
              "      <td>0.999829</td>\n",
              "      <td>1.000000</td>\n",
              "      <td>1.000000</td>\n",
              "      <td>0.019867</td>\n",
              "      <td>-0.024632</td>\n",
              "      <td>0.526184</td>\n",
              "      <td>0.412768</td>\n",
              "      <td>-0.078812</td>\n",
              "    </tr>\n",
              "    <tr>\n",
              "      <th>result</th>\n",
              "      <td>-0.000861</td>\n",
              "      <td>0.015274</td>\n",
              "      <td>0.007226</td>\n",
              "      <td>0.019867</td>\n",
              "      <td>0.019867</td>\n",
              "      <td>1.000000</td>\n",
              "      <td>0.440963</td>\n",
              "      <td>0.248717</td>\n",
              "      <td>0.205680</td>\n",
              "      <td>0.004955</td>\n",
              "    </tr>\n",
              "    <tr>\n",
              "      <th>positive</th>\n",
              "      <td>-0.033779</td>\n",
              "      <td>-0.028421</td>\n",
              "      <td>-0.029019</td>\n",
              "      <td>-0.024632</td>\n",
              "      <td>-0.024632</td>\n",
              "      <td>0.440963</td>\n",
              "      <td>1.000000</td>\n",
              "      <td>0.002942</td>\n",
              "      <td>0.001985</td>\n",
              "      <td>-0.026248</td>\n",
              "    </tr>\n",
              "    <tr>\n",
              "      <th>volatility</th>\n",
              "      <td>0.521131</td>\n",
              "      <td>0.536984</td>\n",
              "      <td>0.512973</td>\n",
              "      <td>0.526184</td>\n",
              "      <td>0.526184</td>\n",
              "      <td>0.248717</td>\n",
              "      <td>0.002942</td>\n",
              "      <td>1.000000</td>\n",
              "      <td>0.955030</td>\n",
              "      <td>0.018437</td>\n",
              "    </tr>\n",
              "    <tr>\n",
              "      <th>vol</th>\n",
              "      <td>0.408585</td>\n",
              "      <td>0.424116</td>\n",
              "      <td>0.399627</td>\n",
              "      <td>0.412768</td>\n",
              "      <td>0.412768</td>\n",
              "      <td>0.205680</td>\n",
              "      <td>0.001985</td>\n",
              "      <td>0.955030</td>\n",
              "      <td>1.000000</td>\n",
              "      <td>0.045621</td>\n",
              "    </tr>\n",
              "    <tr>\n",
              "      <th>res</th>\n",
              "      <td>-0.078930</td>\n",
              "      <td>-0.077823</td>\n",
              "      <td>-0.079806</td>\n",
              "      <td>-0.078812</td>\n",
              "      <td>-0.078812</td>\n",
              "      <td>0.004955</td>\n",
              "      <td>-0.026248</td>\n",
              "      <td>0.018437</td>\n",
              "      <td>0.045621</td>\n",
              "      <td>1.000000</td>\n",
              "    </tr>\n",
              "  </tbody>\n",
              "</table>\n",
              "</div>\n",
              "      <button class=\"colab-df-convert\" onclick=\"convertToInteractive('df-082f78e5-d78c-4e53-869e-5ca7dabf9549')\"\n",
              "              title=\"Convert this dataframe to an interactive table.\"\n",
              "              style=\"display:none;\">\n",
              "        \n",
              "  <svg xmlns=\"http://www.w3.org/2000/svg\" height=\"24px\"viewBox=\"0 0 24 24\"\n",
              "       width=\"24px\">\n",
              "    <path d=\"M0 0h24v24H0V0z\" fill=\"none\"/>\n",
              "    <path d=\"M18.56 5.44l.94 2.06.94-2.06 2.06-.94-2.06-.94-.94-2.06-.94 2.06-2.06.94zm-11 1L8.5 8.5l.94-2.06 2.06-.94-2.06-.94L8.5 2.5l-.94 2.06-2.06.94zm10 10l.94 2.06.94-2.06 2.06-.94-2.06-.94-.94-2.06-.94 2.06-2.06.94z\"/><path d=\"M17.41 7.96l-1.37-1.37c-.4-.4-.92-.59-1.43-.59-.52 0-1.04.2-1.43.59L10.3 9.45l-7.72 7.72c-.78.78-.78 2.05 0 2.83L4 21.41c.39.39.9.59 1.41.59.51 0 1.02-.2 1.41-.59l7.78-7.78 2.81-2.81c.8-.78.8-2.07 0-2.86zM5.41 20L4 18.59l7.72-7.72 1.47 1.35L5.41 20z\"/>\n",
              "  </svg>\n",
              "      </button>\n",
              "      \n",
              "  <style>\n",
              "    .colab-df-container {\n",
              "      display:flex;\n",
              "      flex-wrap:wrap;\n",
              "      gap: 12px;\n",
              "    }\n",
              "\n",
              "    .colab-df-convert {\n",
              "      background-color: #E8F0FE;\n",
              "      border: none;\n",
              "      border-radius: 50%;\n",
              "      cursor: pointer;\n",
              "      display: none;\n",
              "      fill: #1967D2;\n",
              "      height: 32px;\n",
              "      padding: 0 0 0 0;\n",
              "      width: 32px;\n",
              "    }\n",
              "\n",
              "    .colab-df-convert:hover {\n",
              "      background-color: #E2EBFA;\n",
              "      box-shadow: 0px 1px 2px rgba(60, 64, 67, 0.3), 0px 1px 3px 1px rgba(60, 64, 67, 0.15);\n",
              "      fill: #174EA6;\n",
              "    }\n",
              "\n",
              "    [theme=dark] .colab-df-convert {\n",
              "      background-color: #3B4455;\n",
              "      fill: #D2E3FC;\n",
              "    }\n",
              "\n",
              "    [theme=dark] .colab-df-convert:hover {\n",
              "      background-color: #434B5C;\n",
              "      box-shadow: 0px 1px 3px 1px rgba(0, 0, 0, 0.15);\n",
              "      filter: drop-shadow(0px 1px 2px rgba(0, 0, 0, 0.3));\n",
              "      fill: #FFFFFF;\n",
              "    }\n",
              "  </style>\n",
              "\n",
              "      <script>\n",
              "        const buttonEl =\n",
              "          document.querySelector('#df-082f78e5-d78c-4e53-869e-5ca7dabf9549 button.colab-df-convert');\n",
              "        buttonEl.style.display =\n",
              "          google.colab.kernel.accessAllowed ? 'block' : 'none';\n",
              "\n",
              "        async function convertToInteractive(key) {\n",
              "          const element = document.querySelector('#df-082f78e5-d78c-4e53-869e-5ca7dabf9549');\n",
              "          const dataTable =\n",
              "            await google.colab.kernel.invokeFunction('convertToInteractive',\n",
              "                                                     [key], {});\n",
              "          if (!dataTable) return;\n",
              "\n",
              "          const docLinkHtml = 'Like what you see? Visit the ' +\n",
              "            '<a target=\"_blank\" href=https://colab.research.google.com/notebooks/data_table.ipynb>data table notebook</a>'\n",
              "            + ' to learn more about interactive tables.';\n",
              "          element.innerHTML = '';\n",
              "          dataTable['output_type'] = 'display_data';\n",
              "          await google.colab.output.renderOutput(dataTable, element);\n",
              "          const docLink = document.createElement('div');\n",
              "          docLink.innerHTML = docLinkHtml;\n",
              "          element.appendChild(docLink);\n",
              "        }\n",
              "      </script>\n",
              "    </div>\n",
              "  </div>\n",
              "  "
            ],
            "text/plain": [
              "                open      high       low  ...  volatility       vol       res\n",
              "open        1.000000  0.999749  0.999876  ...    0.521131  0.408585 -0.078930\n",
              "high        0.999749  1.000000  0.999602  ...    0.536984  0.424116 -0.077823\n",
              "low         0.999876  0.999602  1.000000  ...    0.512973  0.399627 -0.079806\n",
              "close       0.999785  0.999868  0.999829  ...    0.526184  0.412768 -0.078812\n",
              "cl          0.999785  0.999868  0.999829  ...    0.526184  0.412768 -0.078812\n",
              "result     -0.000861  0.015274  0.007226  ...    0.248717  0.205680  0.004955\n",
              "positive   -0.033779 -0.028421 -0.029019  ...    0.002942  0.001985 -0.026248\n",
              "volatility  0.521131  0.536984  0.512973  ...    1.000000  0.955030  0.018437\n",
              "vol         0.408585  0.424116  0.399627  ...    0.955030  1.000000  0.045621\n",
              "res        -0.078930 -0.077823 -0.079806  ...    0.018437  0.045621  1.000000\n",
              "\n",
              "[10 rows x 10 columns]"
            ]
          },
          "metadata": {},
          "execution_count": 13
        }
      ]
    },
    {
      "cell_type": "code",
      "source": [
        "df = df[['cl', 'positive', 'res', 'vol']]\n",
        "df.to_csv('/content/drive/MyDrive/usdrub1.csv')"
      ],
      "metadata": {
        "id": "dllNK7A44fQU"
      },
      "execution_count": null,
      "outputs": []
    }
  ]
}