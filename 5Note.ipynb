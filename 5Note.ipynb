{
  "nbformat": 4,
  "nbformat_minor": 0,
  "metadata": {
    "colab": {
      "name": "5Note.ipynb",
      "provenance": []
    },
    "kernelspec": {
      "name": "python3",
      "display_name": "Python 3"
    },
    "language_info": {
      "name": "python"
    }
  },
  "cells": [
    {
      "cell_type": "code",
      "execution_count": 1,
      "metadata": {
        "id": "nM_IlIXfVsju"
      },
      "outputs": [],
      "source": [
        "import pandas as pd\n",
        "import pandas_datareader as pdr\n",
        "import numpy as np"
      ]
    },
    {
      "cell_type": "code",
      "source": [
        "dt_start = '2006-01-10'\n",
        "df = pdr.get_data_fred(['DTWEXEMEGS', 'DCOILBRENTEU'], start=dt_start)\n",
        "df.info()"
      ],
      "metadata": {
        "colab": {
          "base_uri": "https://localhost:8080/"
        },
        "id": "3hpuMnaCWLmp",
        "outputId": "9caaccb7-7c04-4bb3-ac41-0381edc91663"
      },
      "execution_count": 2,
      "outputs": [
        {
          "output_type": "stream",
          "name": "stdout",
          "text": [
            "<class 'pandas.core.frame.DataFrame'>\n",
            "DatetimeIndex: 4175 entries, 2006-01-10 to 2022-01-10\n",
            "Freq: B\n",
            "Data columns (total 2 columns):\n",
            " #   Column        Non-Null Count  Dtype  \n",
            "---  ------        --------------  -----  \n",
            " 0   DTWEXEMEGS    4012 non-null   float64\n",
            " 1   DCOILBRENTEU  4049 non-null   float64\n",
            "dtypes: float64(2)\n",
            "memory usage: 97.9 KB\n"
          ]
        }
      ]
    },
    {
      "cell_type": "code",
      "source": [
        "df.index.nunique()"
      ],
      "metadata": {
        "colab": {
          "base_uri": "https://localhost:8080/"
        },
        "id": "bJ1r_4cNZv4G",
        "outputId": "84c1d91f-2394-4e85-a6e5-02abdc147638"
      },
      "execution_count": 3,
      "outputs": [
        {
          "output_type": "execute_result",
          "data": {
            "text/plain": [
              "4175"
            ]
          },
          "metadata": {},
          "execution_count": 3
        }
      ]
    },
    {
      "cell_type": "code",
      "source": [
        "df.replace(0.0, np.NaN, inplace=True)\n",
        "df.fillna(method='ffill', axis=0, inplace=True)\n",
        "df.info()"
      ],
      "metadata": {
        "id": "_40XAeh5aEbq",
        "colab": {
          "base_uri": "https://localhost:8080/"
        },
        "outputId": "6bd9c607-3289-4740-e988-cce9c4243359"
      },
      "execution_count": 4,
      "outputs": [
        {
          "output_type": "stream",
          "name": "stdout",
          "text": [
            "<class 'pandas.core.frame.DataFrame'>\n",
            "DatetimeIndex: 4175 entries, 2006-01-10 to 2022-01-10\n",
            "Freq: B\n",
            "Data columns (total 2 columns):\n",
            " #   Column        Non-Null Count  Dtype  \n",
            "---  ------        --------------  -----  \n",
            " 0   DTWEXEMEGS    4175 non-null   float64\n",
            " 1   DCOILBRENTEU  4175 non-null   float64\n",
            "dtypes: float64(2)\n",
            "memory usage: 97.9 KB\n"
          ]
        }
      ]
    },
    {
      "cell_type": "code",
      "source": [
        "df1 = pdr.get_data_moex('USD000UTSTOM', start=dt_start)\n",
        "df1.info()"
      ],
      "metadata": {
        "colab": {
          "base_uri": "https://localhost:8080/"
        },
        "id": "ReCuX-RqcsA6",
        "outputId": "8eb33d04-62f4-4e98-abc6-b94f1a33a71f"
      },
      "execution_count": 5,
      "outputs": [
        {
          "output_type": "stream",
          "name": "stdout",
          "text": [
            "<class 'pandas.core.frame.DataFrame'>\n",
            "DatetimeIndex: 7366 entries, 2016-10-10 to 2022-01-14\n",
            "Data columns (total 10 columns):\n",
            " #   Column     Non-Null Count  Dtype  \n",
            "---  ------     --------------  -----  \n",
            " 0   BOARDID    7366 non-null   object \n",
            " 1   CLOSE      7355 non-null   float64\n",
            " 2   HIGH       7366 non-null   float64\n",
            " 3   LOW        7366 non-null   float64\n",
            " 4   NUMTRADES  7366 non-null   int64  \n",
            " 5   OPEN       7355 non-null   float64\n",
            " 6   SECID      7366 non-null   object \n",
            " 7   SHORTNAME  7366 non-null   object \n",
            " 8   VOLRUR     7366 non-null   float64\n",
            " 9   WAPRICE    4090 non-null   float64\n",
            "dtypes: float64(6), int64(1), object(3)\n",
            "memory usage: 633.0+ KB\n"
          ]
        }
      ]
    },
    {
      "cell_type": "code",
      "source": [
        "df1.BOARDID.value_counts()"
      ],
      "metadata": {
        "colab": {
          "base_uri": "https://localhost:8080/"
        },
        "id": "zUM7YzKAkHIq",
        "outputId": "cb3f15c4-a687-4d1d-d1ac-b99a0e35fd6c"
      },
      "execution_count": 6,
      "outputs": [
        {
          "output_type": "execute_result",
          "data": {
            "text/plain": [
              "CETS    4090\n",
              "CNGD    2537\n",
              "LICU     727\n",
              "FUTN       6\n",
              "FUTS       6\n",
              "Name: BOARDID, dtype: int64"
            ]
          },
          "metadata": {},
          "execution_count": 6
        }
      ]
    },
    {
      "cell_type": "code",
      "source": [
        "df1 = df1[df1.BOARDID == 'CETS']\n",
        "df1.info()"
      ],
      "metadata": {
        "colab": {
          "base_uri": "https://localhost:8080/"
        },
        "id": "oO1OR1_9eQa9",
        "outputId": "9f66c915-d52d-4096-e093-bb4561cf070e"
      },
      "execution_count": 7,
      "outputs": [
        {
          "output_type": "stream",
          "name": "stdout",
          "text": [
            "<class 'pandas.core.frame.DataFrame'>\n",
            "DatetimeIndex: 4090 entries, 2006-01-10 to 2022-01-14\n",
            "Data columns (total 10 columns):\n",
            " #   Column     Non-Null Count  Dtype  \n",
            "---  ------     --------------  -----  \n",
            " 0   BOARDID    4090 non-null   object \n",
            " 1   CLOSE      4090 non-null   float64\n",
            " 2   HIGH       4090 non-null   float64\n",
            " 3   LOW        4090 non-null   float64\n",
            " 4   NUMTRADES  4090 non-null   int64  \n",
            " 5   OPEN       4090 non-null   float64\n",
            " 6   SECID      4090 non-null   object \n",
            " 7   SHORTNAME  4090 non-null   object \n",
            " 8   VOLRUR     4090 non-null   float64\n",
            " 9   WAPRICE    4090 non-null   float64\n",
            "dtypes: float64(6), int64(1), object(3)\n",
            "memory usage: 351.5+ KB\n"
          ]
        }
      ]
    },
    {
      "cell_type": "code",
      "source": [
        "df1.index.nunique()"
      ],
      "metadata": {
        "colab": {
          "base_uri": "https://localhost:8080/"
        },
        "id": "WFUZicdCkeUy",
        "outputId": "f31446b1-89eb-49af-b905-e15152cae3e4"
      },
      "execution_count": 8,
      "outputs": [
        {
          "output_type": "execute_result",
          "data": {
            "text/plain": [
              "4017"
            ]
          },
          "metadata": {},
          "execution_count": 8
        }
      ]
    },
    {
      "cell_type": "code",
      "source": [
        "df1.drop_duplicates(inplace=True)\n",
        "df1.info()"
      ],
      "metadata": {
        "colab": {
          "base_uri": "https://localhost:8080/"
        },
        "id": "3ptgrVeHfBMq",
        "outputId": "36f4c934-8d95-4802-e7b8-448b1fbdf720"
      },
      "execution_count": 9,
      "outputs": [
        {
          "output_type": "stream",
          "name": "stdout",
          "text": [
            "<class 'pandas.core.frame.DataFrame'>\n",
            "DatetimeIndex: 4017 entries, 2006-01-10 to 2022-01-14\n",
            "Data columns (total 10 columns):\n",
            " #   Column     Non-Null Count  Dtype  \n",
            "---  ------     --------------  -----  \n",
            " 0   BOARDID    4017 non-null   object \n",
            " 1   CLOSE      4017 non-null   float64\n",
            " 2   HIGH       4017 non-null   float64\n",
            " 3   LOW        4017 non-null   float64\n",
            " 4   NUMTRADES  4017 non-null   int64  \n",
            " 5   OPEN       4017 non-null   float64\n",
            " 6   SECID      4017 non-null   object \n",
            " 7   SHORTNAME  4017 non-null   object \n",
            " 8   VOLRUR     4017 non-null   float64\n",
            " 9   WAPRICE    4017 non-null   float64\n",
            "dtypes: float64(6), int64(1), object(3)\n",
            "memory usage: 345.2+ KB\n"
          ]
        }
      ]
    },
    {
      "cell_type": "code",
      "source": [
        "df1.CLOSE.replace(0.0, np.NaN, inplace=True)\n",
        "df1.CLOSE.fillna(method='ffill', axis=0, inplace=True)"
      ],
      "metadata": {
        "id": "Y-liyFpB7OBB"
      },
      "execution_count": 10,
      "outputs": []
    },
    {
      "cell_type": "code",
      "source": [
        "df = df.join(df1.CLOSE)\n",
        "df.head()"
      ],
      "metadata": {
        "colab": {
          "base_uri": "https://localhost:8080/",
          "height": 238
        },
        "id": "wIAPLKEwlLep",
        "outputId": "4cdf610f-6aac-4811-a1fb-73c978382696"
      },
      "execution_count": 11,
      "outputs": [
        {
          "output_type": "execute_result",
          "data": {
            "text/html": [
              "\n",
              "  <div id=\"df-ae532b22-8e37-4e4f-aba5-3fe90ac74d13\">\n",
              "    <div class=\"colab-df-container\">\n",
              "      <div>\n",
              "<style scoped>\n",
              "    .dataframe tbody tr th:only-of-type {\n",
              "        vertical-align: middle;\n",
              "    }\n",
              "\n",
              "    .dataframe tbody tr th {\n",
              "        vertical-align: top;\n",
              "    }\n",
              "\n",
              "    .dataframe thead th {\n",
              "        text-align: right;\n",
              "    }\n",
              "</style>\n",
              "<table border=\"1\" class=\"dataframe\">\n",
              "  <thead>\n",
              "    <tr style=\"text-align: right;\">\n",
              "      <th></th>\n",
              "      <th>DTWEXEMEGS</th>\n",
              "      <th>DCOILBRENTEU</th>\n",
              "      <th>CLOSE</th>\n",
              "    </tr>\n",
              "    <tr>\n",
              "      <th>DATE</th>\n",
              "      <th></th>\n",
              "      <th></th>\n",
              "      <th></th>\n",
              "    </tr>\n",
              "  </thead>\n",
              "  <tbody>\n",
              "    <tr>\n",
              "      <th>2006-01-10</th>\n",
              "      <td>100.0931</td>\n",
              "      <td>62.32</td>\n",
              "      <td>28.510</td>\n",
              "    </tr>\n",
              "    <tr>\n",
              "      <th>2006-01-11</th>\n",
              "      <td>100.0905</td>\n",
              "      <td>61.54</td>\n",
              "      <td>28.465</td>\n",
              "    </tr>\n",
              "    <tr>\n",
              "      <th>2006-01-12</th>\n",
              "      <td>99.8573</td>\n",
              "      <td>62.95</td>\n",
              "      <td>28.440</td>\n",
              "    </tr>\n",
              "    <tr>\n",
              "      <th>2006-01-13</th>\n",
              "      <td>100.0169</td>\n",
              "      <td>61.58</td>\n",
              "      <td>28.465</td>\n",
              "    </tr>\n",
              "    <tr>\n",
              "      <th>2006-01-16</th>\n",
              "      <td>100.0261</td>\n",
              "      <td>62.34</td>\n",
              "      <td>28.285</td>\n",
              "    </tr>\n",
              "  </tbody>\n",
              "</table>\n",
              "</div>\n",
              "      <button class=\"colab-df-convert\" onclick=\"convertToInteractive('df-ae532b22-8e37-4e4f-aba5-3fe90ac74d13')\"\n",
              "              title=\"Convert this dataframe to an interactive table.\"\n",
              "              style=\"display:none;\">\n",
              "        \n",
              "  <svg xmlns=\"http://www.w3.org/2000/svg\" height=\"24px\"viewBox=\"0 0 24 24\"\n",
              "       width=\"24px\">\n",
              "    <path d=\"M0 0h24v24H0V0z\" fill=\"none\"/>\n",
              "    <path d=\"M18.56 5.44l.94 2.06.94-2.06 2.06-.94-2.06-.94-.94-2.06-.94 2.06-2.06.94zm-11 1L8.5 8.5l.94-2.06 2.06-.94-2.06-.94L8.5 2.5l-.94 2.06-2.06.94zm10 10l.94 2.06.94-2.06 2.06-.94-2.06-.94-.94-2.06-.94 2.06-2.06.94z\"/><path d=\"M17.41 7.96l-1.37-1.37c-.4-.4-.92-.59-1.43-.59-.52 0-1.04.2-1.43.59L10.3 9.45l-7.72 7.72c-.78.78-.78 2.05 0 2.83L4 21.41c.39.39.9.59 1.41.59.51 0 1.02-.2 1.41-.59l7.78-7.78 2.81-2.81c.8-.78.8-2.07 0-2.86zM5.41 20L4 18.59l7.72-7.72 1.47 1.35L5.41 20z\"/>\n",
              "  </svg>\n",
              "      </button>\n",
              "      \n",
              "  <style>\n",
              "    .colab-df-container {\n",
              "      display:flex;\n",
              "      flex-wrap:wrap;\n",
              "      gap: 12px;\n",
              "    }\n",
              "\n",
              "    .colab-df-convert {\n",
              "      background-color: #E8F0FE;\n",
              "      border: none;\n",
              "      border-radius: 50%;\n",
              "      cursor: pointer;\n",
              "      display: none;\n",
              "      fill: #1967D2;\n",
              "      height: 32px;\n",
              "      padding: 0 0 0 0;\n",
              "      width: 32px;\n",
              "    }\n",
              "\n",
              "    .colab-df-convert:hover {\n",
              "      background-color: #E2EBFA;\n",
              "      box-shadow: 0px 1px 2px rgba(60, 64, 67, 0.3), 0px 1px 3px 1px rgba(60, 64, 67, 0.15);\n",
              "      fill: #174EA6;\n",
              "    }\n",
              "\n",
              "    [theme=dark] .colab-df-convert {\n",
              "      background-color: #3B4455;\n",
              "      fill: #D2E3FC;\n",
              "    }\n",
              "\n",
              "    [theme=dark] .colab-df-convert:hover {\n",
              "      background-color: #434B5C;\n",
              "      box-shadow: 0px 1px 3px 1px rgba(0, 0, 0, 0.15);\n",
              "      filter: drop-shadow(0px 1px 2px rgba(0, 0, 0, 0.3));\n",
              "      fill: #FFFFFF;\n",
              "    }\n",
              "  </style>\n",
              "\n",
              "      <script>\n",
              "        const buttonEl =\n",
              "          document.querySelector('#df-ae532b22-8e37-4e4f-aba5-3fe90ac74d13 button.colab-df-convert');\n",
              "        buttonEl.style.display =\n",
              "          google.colab.kernel.accessAllowed ? 'block' : 'none';\n",
              "\n",
              "        async function convertToInteractive(key) {\n",
              "          const element = document.querySelector('#df-ae532b22-8e37-4e4f-aba5-3fe90ac74d13');\n",
              "          const dataTable =\n",
              "            await google.colab.kernel.invokeFunction('convertToInteractive',\n",
              "                                                     [key], {});\n",
              "          if (!dataTable) return;\n",
              "\n",
              "          const docLinkHtml = 'Like what you see? Visit the ' +\n",
              "            '<a target=\"_blank\" href=https://colab.research.google.com/notebooks/data_table.ipynb>data table notebook</a>'\n",
              "            + ' to learn more about interactive tables.';\n",
              "          element.innerHTML = '';\n",
              "          dataTable['output_type'] = 'display_data';\n",
              "          await google.colab.output.renderOutput(dataTable, element);\n",
              "          const docLink = document.createElement('div');\n",
              "          docLink.innerHTML = docLinkHtml;\n",
              "          element.appendChild(docLink);\n",
              "        }\n",
              "      </script>\n",
              "    </div>\n",
              "  </div>\n",
              "  "
            ],
            "text/plain": [
              "            DTWEXEMEGS  DCOILBRENTEU   CLOSE\n",
              "DATE                                        \n",
              "2006-01-10    100.0931         62.32  28.510\n",
              "2006-01-11    100.0905         61.54  28.465\n",
              "2006-01-12     99.8573         62.95  28.440\n",
              "2006-01-13    100.0169         61.58  28.465\n",
              "2006-01-16    100.0261         62.34  28.285"
            ]
          },
          "metadata": {},
          "execution_count": 11
        }
      ]
    },
    {
      "cell_type": "code",
      "source": [
        "df.rename(columns={'DTWEXEMEGS': 'dollar', 'DCOILBRENTEU': 'brent', 'CLOSE': 'ruble'}, inplace=True)\n",
        "df.tail()"
      ],
      "metadata": {
        "colab": {
          "base_uri": "https://localhost:8080/",
          "height": 238
        },
        "id": "tuJt9sChmSUI",
        "outputId": "3103f42b-4f01-40c4-ec3e-ac1a4f240b48"
      },
      "execution_count": 12,
      "outputs": [
        {
          "output_type": "execute_result",
          "data": {
            "text/html": [
              "\n",
              "  <div id=\"df-5705d1a4-c4d2-4640-96fc-5b62ebd8ff43\">\n",
              "    <div class=\"colab-df-container\">\n",
              "      <div>\n",
              "<style scoped>\n",
              "    .dataframe tbody tr th:only-of-type {\n",
              "        vertical-align: middle;\n",
              "    }\n",
              "\n",
              "    .dataframe tbody tr th {\n",
              "        vertical-align: top;\n",
              "    }\n",
              "\n",
              "    .dataframe thead th {\n",
              "        text-align: right;\n",
              "    }\n",
              "</style>\n",
              "<table border=\"1\" class=\"dataframe\">\n",
              "  <thead>\n",
              "    <tr style=\"text-align: right;\">\n",
              "      <th></th>\n",
              "      <th>dollar</th>\n",
              "      <th>brent</th>\n",
              "      <th>ruble</th>\n",
              "    </tr>\n",
              "    <tr>\n",
              "      <th>DATE</th>\n",
              "      <th></th>\n",
              "      <th></th>\n",
              "      <th></th>\n",
              "    </tr>\n",
              "  </thead>\n",
              "  <tbody>\n",
              "    <tr>\n",
              "      <th>2022-01-04</th>\n",
              "      <td>124.4148</td>\n",
              "      <td>79.39</td>\n",
              "      <td>75.3625</td>\n",
              "    </tr>\n",
              "    <tr>\n",
              "      <th>2022-01-05</th>\n",
              "      <td>124.2755</td>\n",
              "      <td>80.60</td>\n",
              "      <td>76.8000</td>\n",
              "    </tr>\n",
              "    <tr>\n",
              "      <th>2022-01-06</th>\n",
              "      <td>124.5636</td>\n",
              "      <td>81.99</td>\n",
              "      <td>76.3175</td>\n",
              "    </tr>\n",
              "    <tr>\n",
              "      <th>2022-01-07</th>\n",
              "      <td>124.3154</td>\n",
              "      <td>82.28</td>\n",
              "      <td>75.7500</td>\n",
              "    </tr>\n",
              "    <tr>\n",
              "      <th>2022-01-10</th>\n",
              "      <td>124.3154</td>\n",
              "      <td>81.56</td>\n",
              "      <td>75.0000</td>\n",
              "    </tr>\n",
              "  </tbody>\n",
              "</table>\n",
              "</div>\n",
              "      <button class=\"colab-df-convert\" onclick=\"convertToInteractive('df-5705d1a4-c4d2-4640-96fc-5b62ebd8ff43')\"\n",
              "              title=\"Convert this dataframe to an interactive table.\"\n",
              "              style=\"display:none;\">\n",
              "        \n",
              "  <svg xmlns=\"http://www.w3.org/2000/svg\" height=\"24px\"viewBox=\"0 0 24 24\"\n",
              "       width=\"24px\">\n",
              "    <path d=\"M0 0h24v24H0V0z\" fill=\"none\"/>\n",
              "    <path d=\"M18.56 5.44l.94 2.06.94-2.06 2.06-.94-2.06-.94-.94-2.06-.94 2.06-2.06.94zm-11 1L8.5 8.5l.94-2.06 2.06-.94-2.06-.94L8.5 2.5l-.94 2.06-2.06.94zm10 10l.94 2.06.94-2.06 2.06-.94-2.06-.94-.94-2.06-.94 2.06-2.06.94z\"/><path d=\"M17.41 7.96l-1.37-1.37c-.4-.4-.92-.59-1.43-.59-.52 0-1.04.2-1.43.59L10.3 9.45l-7.72 7.72c-.78.78-.78 2.05 0 2.83L4 21.41c.39.39.9.59 1.41.59.51 0 1.02-.2 1.41-.59l7.78-7.78 2.81-2.81c.8-.78.8-2.07 0-2.86zM5.41 20L4 18.59l7.72-7.72 1.47 1.35L5.41 20z\"/>\n",
              "  </svg>\n",
              "      </button>\n",
              "      \n",
              "  <style>\n",
              "    .colab-df-container {\n",
              "      display:flex;\n",
              "      flex-wrap:wrap;\n",
              "      gap: 12px;\n",
              "    }\n",
              "\n",
              "    .colab-df-convert {\n",
              "      background-color: #E8F0FE;\n",
              "      border: none;\n",
              "      border-radius: 50%;\n",
              "      cursor: pointer;\n",
              "      display: none;\n",
              "      fill: #1967D2;\n",
              "      height: 32px;\n",
              "      padding: 0 0 0 0;\n",
              "      width: 32px;\n",
              "    }\n",
              "\n",
              "    .colab-df-convert:hover {\n",
              "      background-color: #E2EBFA;\n",
              "      box-shadow: 0px 1px 2px rgba(60, 64, 67, 0.3), 0px 1px 3px 1px rgba(60, 64, 67, 0.15);\n",
              "      fill: #174EA6;\n",
              "    }\n",
              "\n",
              "    [theme=dark] .colab-df-convert {\n",
              "      background-color: #3B4455;\n",
              "      fill: #D2E3FC;\n",
              "    }\n",
              "\n",
              "    [theme=dark] .colab-df-convert:hover {\n",
              "      background-color: #434B5C;\n",
              "      box-shadow: 0px 1px 3px 1px rgba(0, 0, 0, 0.15);\n",
              "      filter: drop-shadow(0px 1px 2px rgba(0, 0, 0, 0.3));\n",
              "      fill: #FFFFFF;\n",
              "    }\n",
              "  </style>\n",
              "\n",
              "      <script>\n",
              "        const buttonEl =\n",
              "          document.querySelector('#df-5705d1a4-c4d2-4640-96fc-5b62ebd8ff43 button.colab-df-convert');\n",
              "        buttonEl.style.display =\n",
              "          google.colab.kernel.accessAllowed ? 'block' : 'none';\n",
              "\n",
              "        async function convertToInteractive(key) {\n",
              "          const element = document.querySelector('#df-5705d1a4-c4d2-4640-96fc-5b62ebd8ff43');\n",
              "          const dataTable =\n",
              "            await google.colab.kernel.invokeFunction('convertToInteractive',\n",
              "                                                     [key], {});\n",
              "          if (!dataTable) return;\n",
              "\n",
              "          const docLinkHtml = 'Like what you see? Visit the ' +\n",
              "            '<a target=\"_blank\" href=https://colab.research.google.com/notebooks/data_table.ipynb>data table notebook</a>'\n",
              "            + ' to learn more about interactive tables.';\n",
              "          element.innerHTML = '';\n",
              "          dataTable['output_type'] = 'display_data';\n",
              "          await google.colab.output.renderOutput(dataTable, element);\n",
              "          const docLink = document.createElement('div');\n",
              "          docLink.innerHTML = docLinkHtml;\n",
              "          element.appendChild(docLink);\n",
              "        }\n",
              "      </script>\n",
              "    </div>\n",
              "  </div>\n",
              "  "
            ],
            "text/plain": [
              "              dollar  brent    ruble\n",
              "DATE                                \n",
              "2022-01-04  124.4148  79.39  75.3625\n",
              "2022-01-05  124.2755  80.60  76.8000\n",
              "2022-01-06  124.5636  81.99  76.3175\n",
              "2022-01-07  124.3154  82.28  75.7500\n",
              "2022-01-10  124.3154  81.56  75.0000"
            ]
          },
          "metadata": {},
          "execution_count": 12
        }
      ]
    },
    {
      "cell_type": "code",
      "source": [
        "ls_ind = ['IMOEX', 'RGBITR', 'RUCBITR']\n",
        "for el_ind in ls_ind:\n",
        "  df1 = pdr.get_data_moex(el_ind, start=dt_start)\n",
        "  df1 = df1[['CLOSE']]\n",
        "  df1.drop_duplicates(inplace=True)\n",
        "  df1.rename({'CLOSE': el_ind}, axis=1, inplace=True)\n",
        "  df = df.join(df1)\n",
        "df.info()"
      ],
      "metadata": {
        "colab": {
          "base_uri": "https://localhost:8080/"
        },
        "id": "aTZCrzS-nXC2",
        "outputId": "667296eb-f359-4407-db74-892810254f59"
      },
      "execution_count": 13,
      "outputs": [
        {
          "output_type": "stream",
          "name": "stdout",
          "text": [
            "<class 'pandas.core.frame.DataFrame'>\n",
            "DatetimeIndex: 4175 entries, 2006-01-10 to 2022-01-10\n",
            "Freq: B\n",
            "Data columns (total 6 columns):\n",
            " #   Column   Non-Null Count  Dtype  \n",
            "---  ------   --------------  -----  \n",
            " 0   dollar   4175 non-null   float64\n",
            " 1   brent    4175 non-null   float64\n",
            " 2   ruble    3992 non-null   float64\n",
            " 3   IMOEX    3921 non-null   float64\n",
            " 4   RGBITR   3597 non-null   float64\n",
            " 5   RUCBITR  3563 non-null   float64\n",
            "dtypes: float64(6)\n",
            "memory usage: 388.3 KB\n"
          ]
        }
      ]
    },
    {
      "cell_type": "code",
      "source": [
        "df.fillna(method='ffill', inplace=True)\n",
        "df.info()"
      ],
      "metadata": {
        "colab": {
          "base_uri": "https://localhost:8080/"
        },
        "id": "dKrx23P4oaPr",
        "outputId": "5b1e7e73-d455-495d-cc63-4b709891de5f"
      },
      "execution_count": 14,
      "outputs": [
        {
          "output_type": "stream",
          "name": "stdout",
          "text": [
            "<class 'pandas.core.frame.DataFrame'>\n",
            "DatetimeIndex: 4175 entries, 2006-01-10 to 2022-01-10\n",
            "Freq: B\n",
            "Data columns (total 6 columns):\n",
            " #   Column   Non-Null Count  Dtype  \n",
            "---  ------   --------------  -----  \n",
            " 0   dollar   4175 non-null   float64\n",
            " 1   brent    4175 non-null   float64\n",
            " 2   ruble    4175 non-null   float64\n",
            " 3   IMOEX    4175 non-null   float64\n",
            " 4   RGBITR   4175 non-null   float64\n",
            " 5   RUCBITR  4175 non-null   float64\n",
            "dtypes: float64(6)\n",
            "memory usage: 388.3 KB\n"
          ]
        }
      ]
    },
    {
      "cell_type": "code",
      "source": [
        "df.to_csv('/content/drive/MyDrive/usdrub1.csv')"
      ],
      "metadata": {
        "id": "bLOxU_2ysWUs"
      },
      "execution_count": 15,
      "outputs": []
    }
  ]
}