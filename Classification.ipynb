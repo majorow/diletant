{
  "nbformat": 4,
  "nbformat_minor": 0,
  "metadata": {
    "colab": {
      "name": "Classification.ipynb",
      "provenance": [],
      "collapsed_sections": []
    },
    "kernelspec": {
      "name": "python3",
      "display_name": "Python 3"
    },
    "language_info": {
      "name": "python"
    }
  },
  "cells": [
    {
      "cell_type": "code",
      "execution_count": 45,
      "metadata": {
        "id": "nM_IlIXfVsju"
      },
      "outputs": [],
      "source": [
        "import pandas as pd\n",
        "import pandas_datareader as pdr\n",
        "import numpy as np\n",
        "from sklearn.model_selection import train_test_split\n",
        "from sklearn.linear_model import LogisticRegression\n",
        "from sklearn.preprocessing import MinMaxScaler"
      ]
    },
    {
      "cell_type": "code",
      "source": [
        "dt_start = '2006-01-10'\n",
        "df = pdr.get_data_fred(['DTWEXEMEGS', 'DCOILBRENTEU'], start=dt_start)\n",
        "df.replace(0.0, np.NaN, inplace=True)\n",
        "df.fillna(method='ffill', axis=0, inplace=True)\n",
        "df.rename(columns={'DTWEXEMEGS': 'dollar', 'DCOILBRENTEU': 'brent'}, inplace=True)\n",
        "df.info()"
      ],
      "metadata": {
        "colab": {
          "base_uri": "https://localhost:8080/"
        },
        "id": "3hpuMnaCWLmp",
        "outputId": "a000d738-7187-49ee-dd09-003153f55381"
      },
      "execution_count": 46,
      "outputs": [
        {
          "output_type": "stream",
          "name": "stdout",
          "text": [
            "<class 'pandas.core.frame.DataFrame'>\n",
            "DatetimeIndex: 4185 entries, 2006-01-10 to 2022-01-24\n",
            "Freq: B\n",
            "Data columns (total 2 columns):\n",
            " #   Column  Non-Null Count  Dtype  \n",
            "---  ------  --------------  -----  \n",
            " 0   dollar  4185 non-null   float64\n",
            " 1   brent   4185 non-null   float64\n",
            "dtypes: float64(2)\n",
            "memory usage: 98.1 KB\n"
          ]
        }
      ]
    },
    {
      "cell_type": "code",
      "source": [
        "df1 = pdr.get_data_moex('USD000UTSTOM', start=dt_start)\n",
        "df1 = df1[df1.BOARDID == 'CETS']\n",
        "df1.drop_duplicates(inplace=True)\n",
        "df1.replace(0.0, np.NaN, inplace=True)\n",
        "df1.fillna(method='ffill', axis=0, inplace=True)"
      ],
      "metadata": {
        "id": "ReCuX-RqcsA6"
      },
      "execution_count": 47,
      "outputs": []
    },
    {
      "cell_type": "code",
      "source": [
        "df1['result'] = (df1.CLOSE - df1.OPEN) / df1.HIGH\n",
        "df1 = df1[['result']]\n",
        "v_std = df1.result.std()\n",
        "df1['cl'] = 0"
      ],
      "metadata": {
        "id": "zUM7YzKAkHIq"
      },
      "execution_count": 48,
      "outputs": []
    },
    {
      "cell_type": "code",
      "source": [
        "df1.loc[df1.result > v_std * -2, 'cl'] = 1\n",
        "df1.loc[df1.result > v_std * -1, 'cl'] = 2\n",
        "df1.loc[df1.result > 0, 'cl'] = 3\n",
        "df1.loc[df1.result > v_std, 'cl'] = 4\n",
        "df1.loc[df1.result > v_std * 2, 'cl'] = 5\n",
        "df1.cl.value_counts()"
      ],
      "metadata": {
        "colab": {
          "base_uri": "https://localhost:8080/"
        },
        "id": "2Rl5Ge_aITAQ",
        "outputId": "b397f775-0d7d-4334-f3c9-bd1270f8cc88"
      },
      "execution_count": 49,
      "outputs": [
        {
          "output_type": "execute_result",
          "data": {
            "text/plain": [
              "2    1662\n",
              "3    1652\n",
              "1     270\n",
              "4     256\n",
              "5     104\n",
              "0      83\n",
              "Name: cl, dtype: int64"
            ]
          },
          "metadata": {},
          "execution_count": 49
        }
      ]
    },
    {
      "cell_type": "code",
      "source": [
        "df = df.join(df1.cl)\n",
        "df.cl.fillna(method='ffill', axis=0, inplace=True)\n",
        "df.cl = df.cl.astype('int8')\n",
        "df.info()"
      ],
      "metadata": {
        "colab": {
          "base_uri": "https://localhost:8080/"
        },
        "id": "wIAPLKEwlLep",
        "outputId": "c8c0cde4-74c2-480f-a23e-cea3e9535bc9"
      },
      "execution_count": 50,
      "outputs": [
        {
          "output_type": "stream",
          "name": "stdout",
          "text": [
            "<class 'pandas.core.frame.DataFrame'>\n",
            "DatetimeIndex: 4185 entries, 2006-01-10 to 2022-01-24\n",
            "Freq: B\n",
            "Data columns (total 3 columns):\n",
            " #   Column  Non-Null Count  Dtype  \n",
            "---  ------  --------------  -----  \n",
            " 0   dollar  4185 non-null   float64\n",
            " 1   brent   4185 non-null   float64\n",
            " 2   cl      4185 non-null   int8   \n",
            "dtypes: float64(2), int8(1)\n",
            "memory usage: 262.2 KB\n"
          ]
        }
      ]
    },
    {
      "cell_type": "code",
      "source": [
        "ls_ind = ['IMOEX', 'RGBITR', 'RUCBITR']\n",
        "for el_ind in ls_ind:\n",
        "  df1 = pdr.get_data_moex(el_ind, start=dt_start)\n",
        "  df1 = df1[['CLOSE']]\n",
        "  df1.drop_duplicates(inplace=True)\n",
        "  df1.rename({'CLOSE': el_ind}, axis=1, inplace=True)\n",
        "  df = df.join(df1)\n",
        "df.fillna(method='ffill', axis=0, inplace=True)\n",
        "df.info()"
      ],
      "metadata": {
        "colab": {
          "base_uri": "https://localhost:8080/"
        },
        "id": "aTZCrzS-nXC2",
        "outputId": "36ca04fa-2540-43ad-a2b6-7c2fd7d855ef"
      },
      "execution_count": 51,
      "outputs": [
        {
          "output_type": "stream",
          "name": "stdout",
          "text": [
            "<class 'pandas.core.frame.DataFrame'>\n",
            "DatetimeIndex: 4185 entries, 2006-01-10 to 2022-01-24\n",
            "Freq: B\n",
            "Data columns (total 6 columns):\n",
            " #   Column   Non-Null Count  Dtype  \n",
            "---  ------   --------------  -----  \n",
            " 0   dollar   4185 non-null   float64\n",
            " 1   brent    4185 non-null   float64\n",
            " 2   cl       4185 non-null   int8   \n",
            " 3   IMOEX    4185 non-null   float64\n",
            " 4   RGBITR   4185 non-null   float64\n",
            " 5   RUCBITR  4185 non-null   float64\n",
            "dtypes: float64(5), int8(1)\n",
            "memory usage: 360.3 KB\n"
          ]
        }
      ]
    },
    {
      "cell_type": "code",
      "source": [
        "y = df.cl\n",
        "x = df.drop('cl', axis=1)"
      ],
      "metadata": {
        "id": "-N3xMAfo5nEv"
      },
      "execution_count": 52,
      "outputs": []
    },
    {
      "cell_type": "code",
      "source": [
        "scaler = MinMaxScaler()\n",
        "x_scaled = scaler.fit_transform(x)\n",
        "x_train, x_test, y_train, y_test = train_test_split(x_scaled, y, test_size=0.1, shuffle=False)"
      ],
      "metadata": {
        "id": "2srQHfXy8875"
      },
      "execution_count": 53,
      "outputs": []
    },
    {
      "cell_type": "code",
      "source": [
        "model = LogisticRegression()\n",
        "model.fit(x_train, y_train)\n",
        "model.score(x_train, y_train)"
      ],
      "metadata": {
        "colab": {
          "base_uri": "https://localhost:8080/"
        },
        "id": "51dJzxwe7BbJ",
        "outputId": "06105bf5-8097-40b9-cb6c-04021625ce4a"
      },
      "execution_count": 54,
      "outputs": [
        {
          "output_type": "execute_result",
          "data": {
            "text/plain": [
              "0.4291024960169942"
            ]
          },
          "metadata": {},
          "execution_count": 54
        }
      ]
    },
    {
      "cell_type": "code",
      "source": [
        "model.score(x_test, y_test)"
      ],
      "metadata": {
        "colab": {
          "base_uri": "https://localhost:8080/"
        },
        "id": "T6Aw0Vk_7hVe",
        "outputId": "1fe3afcf-457c-4f14-85e6-481223288835"
      },
      "execution_count": 55,
      "outputs": [
        {
          "output_type": "execute_result",
          "data": {
            "text/plain": [
              "0.44630071599045346"
            ]
          },
          "metadata": {},
          "execution_count": 55
        }
      ]
    },
    {
      "cell_type": "code",
      "source": [
        "y = df.cl[5:]\n",
        "x = df.drop('cl', axis=1)[:-5]"
      ],
      "metadata": {
        "id": "uLXJXaON8zKe"
      },
      "execution_count": null,
      "outputs": []
    },
    {
      "cell_type": "code",
      "source": [
        "x = df.drop('cl', axis=1)[-5:]\n",
        "x_scaled = scaler.transform(x)\n",
        "pred = model.predict(x_scaled)\n",
        "pred"
      ],
      "metadata": {
        "colab": {
          "base_uri": "https://localhost:8080/"
        },
        "id": "A0x-_KDE9QTv",
        "outputId": "73aa028c-c14c-4bdd-cc31-e439f2e3af2b"
      },
      "execution_count": null,
      "outputs": [
        {
          "output_type": "execute_result",
          "data": {
            "text/plain": [
              "array([2, 2, 2, 2, 2], dtype=int8)"
            ]
          },
          "metadata": {},
          "execution_count": 44
        }
      ]
    }
  ]
}