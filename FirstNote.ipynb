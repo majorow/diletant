{
  "nbformat": 4,
  "nbformat_minor": 0,
  "metadata": {
    "colab": {
      "name": "FirstNote.ipynb",
      "provenance": [],
      "collapsed_sections": []
    },
    "kernelspec": {
      "name": "python3",
      "display_name": "Python 3"
    },
    "language_info": {
      "name": "python"
    }
  },
  "cells": [
    {
      "cell_type": "code",
      "metadata": {
        "id": "zq5Oty6wxe43"
      },
      "source": [
        "# Объявление модулей\n",
        "import pandas as pd\n",
        "import numpy as np\n",
        "import pandas_datareader as pdr"
      ],
      "execution_count": 1,
      "outputs": []
    },
    {
      "cell_type": "code",
      "metadata": {
        "colab": {
          "base_uri": "https://localhost:8080/",
          "height": 237
        },
        "id": "Nk715FEnbiNC",
        "outputId": "f4adf018-5c63-4085-e26e-15a6bf9355f0"
      },
      "source": [
        "# Объявление переменных\n",
        "beginDate = '1999-06-29'\n",
        "df = pdr.get_data_moex('USD000000TOD', start=beginDate, end='2021-12-03')\n",
        "df.head()"
      ],
      "execution_count": 2,
      "outputs": [
        {
          "output_type": "execute_result",
          "data": {
            "text/html": [
              "\n",
              "  <div id=\"df-ef488a14-37f2-41ed-a60d-ca7dea173006\">\n",
              "    <div class=\"colab-df-container\">\n",
              "      <div>\n",
              "<style scoped>\n",
              "    .dataframe tbody tr th:only-of-type {\n",
              "        vertical-align: middle;\n",
              "    }\n",
              "\n",
              "    .dataframe tbody tr th {\n",
              "        vertical-align: top;\n",
              "    }\n",
              "\n",
              "    .dataframe thead th {\n",
              "        text-align: right;\n",
              "    }\n",
              "</style>\n",
              "<table border=\"1\" class=\"dataframe\">\n",
              "  <thead>\n",
              "    <tr style=\"text-align: right;\">\n",
              "      <th></th>\n",
              "      <th>BOARDID</th>\n",
              "      <th>SHORTNAME</th>\n",
              "      <th>SECID</th>\n",
              "      <th>OPEN</th>\n",
              "      <th>LOW</th>\n",
              "      <th>HIGH</th>\n",
              "      <th>CLOSE</th>\n",
              "      <th>NUMTRADES</th>\n",
              "      <th>VOLRUR</th>\n",
              "      <th>WAPRICE</th>\n",
              "    </tr>\n",
              "    <tr>\n",
              "      <th>TRADEDATE</th>\n",
              "      <th></th>\n",
              "      <th></th>\n",
              "      <th></th>\n",
              "      <th></th>\n",
              "      <th></th>\n",
              "      <th></th>\n",
              "      <th></th>\n",
              "      <th></th>\n",
              "      <th></th>\n",
              "      <th></th>\n",
              "    </tr>\n",
              "  </thead>\n",
              "  <tbody>\n",
              "    <tr>\n",
              "      <th>1999-06-29</th>\n",
              "      <td>CURR</td>\n",
              "      <td>USDRUB_TOD</td>\n",
              "      <td>USD000000TOD</td>\n",
              "      <td>24.3000</td>\n",
              "      <td>24.200</td>\n",
              "      <td>24.350</td>\n",
              "      <td>24.2249</td>\n",
              "      <td>1809</td>\n",
              "      <td>4.736137e+09</td>\n",
              "      <td>24.2240</td>\n",
              "    </tr>\n",
              "    <tr>\n",
              "      <th>1999-06-30</th>\n",
              "      <td>CURR</td>\n",
              "      <td>USDRUB_TOD</td>\n",
              "      <td>USD000000TOD</td>\n",
              "      <td>24.2201</td>\n",
              "      <td>24.201</td>\n",
              "      <td>24.224</td>\n",
              "      <td>24.2100</td>\n",
              "      <td>2027</td>\n",
              "      <td>3.767813e+09</td>\n",
              "      <td>24.2099</td>\n",
              "    </tr>\n",
              "    <tr>\n",
              "      <th>1999-07-01</th>\n",
              "      <td>CURR</td>\n",
              "      <td>USDRUB_TOD</td>\n",
              "      <td>USD000000TOD</td>\n",
              "      <td>24.2100</td>\n",
              "      <td>24.202</td>\n",
              "      <td>24.220</td>\n",
              "      <td>24.2150</td>\n",
              "      <td>1747</td>\n",
              "      <td>4.138444e+09</td>\n",
              "      <td>24.2137</td>\n",
              "    </tr>\n",
              "    <tr>\n",
              "      <th>1999-07-02</th>\n",
              "      <td>CURR</td>\n",
              "      <td>USDRUB_TOD</td>\n",
              "      <td>USD000000TOD</td>\n",
              "      <td>24.2200</td>\n",
              "      <td>24.220</td>\n",
              "      <td>24.460</td>\n",
              "      <td>24.3500</td>\n",
              "      <td>1425</td>\n",
              "      <td>3.281991e+09</td>\n",
              "      <td>24.2887</td>\n",
              "    </tr>\n",
              "    <tr>\n",
              "      <th>1999-07-05</th>\n",
              "      <td>CURR</td>\n",
              "      <td>USDRUB_TOD</td>\n",
              "      <td>USD000000TOD</td>\n",
              "      <td>0.0000</td>\n",
              "      <td>0.000</td>\n",
              "      <td>0.000</td>\n",
              "      <td>0.0000</td>\n",
              "      <td>0</td>\n",
              "      <td>0.000000e+00</td>\n",
              "      <td>0.0000</td>\n",
              "    </tr>\n",
              "  </tbody>\n",
              "</table>\n",
              "</div>\n",
              "      <button class=\"colab-df-convert\" onclick=\"convertToInteractive('df-ef488a14-37f2-41ed-a60d-ca7dea173006')\"\n",
              "              title=\"Convert this dataframe to an interactive table.\"\n",
              "              style=\"display:none;\">\n",
              "        \n",
              "  <svg xmlns=\"http://www.w3.org/2000/svg\" height=\"24px\"viewBox=\"0 0 24 24\"\n",
              "       width=\"24px\">\n",
              "    <path d=\"M0 0h24v24H0V0z\" fill=\"none\"/>\n",
              "    <path d=\"M18.56 5.44l.94 2.06.94-2.06 2.06-.94-2.06-.94-.94-2.06-.94 2.06-2.06.94zm-11 1L8.5 8.5l.94-2.06 2.06-.94-2.06-.94L8.5 2.5l-.94 2.06-2.06.94zm10 10l.94 2.06.94-2.06 2.06-.94-2.06-.94-.94-2.06-.94 2.06-2.06.94z\"/><path d=\"M17.41 7.96l-1.37-1.37c-.4-.4-.92-.59-1.43-.59-.52 0-1.04.2-1.43.59L10.3 9.45l-7.72 7.72c-.78.78-.78 2.05 0 2.83L4 21.41c.39.39.9.59 1.41.59.51 0 1.02-.2 1.41-.59l7.78-7.78 2.81-2.81c.8-.78.8-2.07 0-2.86zM5.41 20L4 18.59l7.72-7.72 1.47 1.35L5.41 20z\"/>\n",
              "  </svg>\n",
              "      </button>\n",
              "      \n",
              "  <style>\n",
              "    .colab-df-container {\n",
              "      display:flex;\n",
              "      flex-wrap:wrap;\n",
              "      gap: 12px;\n",
              "    }\n",
              "\n",
              "    .colab-df-convert {\n",
              "      background-color: #E8F0FE;\n",
              "      border: none;\n",
              "      border-radius: 50%;\n",
              "      cursor: pointer;\n",
              "      display: none;\n",
              "      fill: #1967D2;\n",
              "      height: 32px;\n",
              "      padding: 0 0 0 0;\n",
              "      width: 32px;\n",
              "    }\n",
              "\n",
              "    .colab-df-convert:hover {\n",
              "      background-color: #E2EBFA;\n",
              "      box-shadow: 0px 1px 2px rgba(60, 64, 67, 0.3), 0px 1px 3px 1px rgba(60, 64, 67, 0.15);\n",
              "      fill: #174EA6;\n",
              "    }\n",
              "\n",
              "    [theme=dark] .colab-df-convert {\n",
              "      background-color: #3B4455;\n",
              "      fill: #D2E3FC;\n",
              "    }\n",
              "\n",
              "    [theme=dark] .colab-df-convert:hover {\n",
              "      background-color: #434B5C;\n",
              "      box-shadow: 0px 1px 3px 1px rgba(0, 0, 0, 0.15);\n",
              "      filter: drop-shadow(0px 1px 2px rgba(0, 0, 0, 0.3));\n",
              "      fill: #FFFFFF;\n",
              "    }\n",
              "  </style>\n",
              "\n",
              "      <script>\n",
              "        const buttonEl =\n",
              "          document.querySelector('#df-ef488a14-37f2-41ed-a60d-ca7dea173006 button.colab-df-convert');\n",
              "        buttonEl.style.display =\n",
              "          google.colab.kernel.accessAllowed ? 'block' : 'none';\n",
              "\n",
              "        async function convertToInteractive(key) {\n",
              "          const element = document.querySelector('#df-ef488a14-37f2-41ed-a60d-ca7dea173006');\n",
              "          const dataTable =\n",
              "            await google.colab.kernel.invokeFunction('convertToInteractive',\n",
              "                                                     [key], {});\n",
              "          if (!dataTable) return;\n",
              "\n",
              "          const docLinkHtml = 'Like what you see? Visit the ' +\n",
              "            '<a target=\"_blank\" href=https://colab.research.google.com/notebooks/data_table.ipynb>data table notebook</a>'\n",
              "            + ' to learn more about interactive tables.';\n",
              "          element.innerHTML = '';\n",
              "          dataTable['output_type'] = 'display_data';\n",
              "          await google.colab.output.renderOutput(dataTable, element);\n",
              "          const docLink = document.createElement('div');\n",
              "          docLink.innerHTML = docLinkHtml;\n",
              "          element.appendChild(docLink);\n",
              "        }\n",
              "      </script>\n",
              "    </div>\n",
              "  </div>\n",
              "  "
            ],
            "text/plain": [
              "           BOARDID   SHORTNAME         SECID  ...  NUMTRADES        VOLRUR  WAPRICE\n",
              "TRADEDATE                                     ...                                  \n",
              "1999-06-29    CURR  USDRUB_TOD  USD000000TOD  ...       1809  4.736137e+09  24.2240\n",
              "1999-06-30    CURR  USDRUB_TOD  USD000000TOD  ...       2027  3.767813e+09  24.2099\n",
              "1999-07-01    CURR  USDRUB_TOD  USD000000TOD  ...       1747  4.138444e+09  24.2137\n",
              "1999-07-02    CURR  USDRUB_TOD  USD000000TOD  ...       1425  3.281991e+09  24.2887\n",
              "1999-07-05    CURR  USDRUB_TOD  USD000000TOD  ...          0  0.000000e+00   0.0000\n",
              "\n",
              "[5 rows x 10 columns]"
            ]
          },
          "metadata": {},
          "execution_count": 2
        }
      ]
    },
    {
      "cell_type": "code",
      "metadata": {
        "colab": {
          "base_uri": "https://localhost:8080/"
        },
        "id": "M2S6iQSZjPjW",
        "outputId": "af5bd230-f7f4-448a-8b3f-34691a358877"
      },
      "source": [
        "df = df[['OPEN', 'HIGH', 'LOW', 'CLOSE']]\n",
        "df.info()"
      ],
      "execution_count": 3,
      "outputs": [
        {
          "output_type": "stream",
          "name": "stdout",
          "text": [
            "<class 'pandas.core.frame.DataFrame'>\n",
            "DatetimeIndex: 8902 entries, 1999-06-29 to 2021-12-03\n",
            "Data columns (total 4 columns):\n",
            " #   Column  Non-Null Count  Dtype  \n",
            "---  ------  --------------  -----  \n",
            " 0   OPEN    8891 non-null   float64\n",
            " 1   HIGH    8902 non-null   float64\n",
            " 2   LOW     8902 non-null   float64\n",
            " 3   CLOSE   8891 non-null   float64\n",
            "dtypes: float64(4)\n",
            "memory usage: 347.7 KB\n"
          ]
        }
      ]
    },
    {
      "cell_type": "code",
      "metadata": {
        "colab": {
          "base_uri": "https://localhost:8080/"
        },
        "id": "2sx43y6MNzIE",
        "outputId": "7d74e7b7-3429-41bd-a77a-5d3b7e307d93"
      },
      "source": [
        "df.index.nunique()"
      ],
      "execution_count": 4,
      "outputs": [
        {
          "output_type": "execute_result",
          "data": {
            "text/plain": [
              "5607"
            ]
          },
          "metadata": {},
          "execution_count": 4
        }
      ]
    },
    {
      "cell_type": "code",
      "source": [
        "df.replace(0.0, np.nan, inplace=True)\n",
        "df = df.dropna()\n",
        "df.info()"
      ],
      "metadata": {
        "colab": {
          "base_uri": "https://localhost:8080/"
        },
        "id": "uBQKrhJWRPvq",
        "outputId": "3528ce91-2ab3-47ac-d129-b30f69014b74"
      },
      "execution_count": 5,
      "outputs": [
        {
          "output_type": "stream",
          "name": "stdout",
          "text": [
            "<class 'pandas.core.frame.DataFrame'>\n",
            "DatetimeIndex: 7758 entries, 1999-06-29 to 2021-12-03\n",
            "Data columns (total 4 columns):\n",
            " #   Column  Non-Null Count  Dtype  \n",
            "---  ------  --------------  -----  \n",
            " 0   OPEN    7758 non-null   float64\n",
            " 1   HIGH    7758 non-null   float64\n",
            " 2   LOW     7758 non-null   float64\n",
            " 3   CLOSE   7758 non-null   float64\n",
            "dtypes: float64(4)\n",
            "memory usage: 303.0 KB\n"
          ]
        }
      ]
    },
    {
      "cell_type": "code",
      "metadata": {
        "colab": {
          "base_uri": "https://localhost:8080/"
        },
        "id": "dDICz9Q0XwMl",
        "outputId": "ca96a28b-894d-4e71-d955-afc3f57c8802"
      },
      "source": [
        "df.reset_index(inplace=True)\n",
        "df.info()"
      ],
      "execution_count": 6,
      "outputs": [
        {
          "output_type": "stream",
          "name": "stdout",
          "text": [
            "<class 'pandas.core.frame.DataFrame'>\n",
            "RangeIndex: 7758 entries, 0 to 7757\n",
            "Data columns (total 5 columns):\n",
            " #   Column     Non-Null Count  Dtype         \n",
            "---  ------     --------------  -----         \n",
            " 0   TRADEDATE  7758 non-null   datetime64[ns]\n",
            " 1   OPEN       7758 non-null   float64       \n",
            " 2   HIGH       7758 non-null   float64       \n",
            " 3   LOW        7758 non-null   float64       \n",
            " 4   CLOSE      7758 non-null   float64       \n",
            "dtypes: datetime64[ns](1), float64(4)\n",
            "memory usage: 303.2 KB\n"
          ]
        }
      ]
    },
    {
      "cell_type": "code",
      "metadata": {
        "colab": {
          "base_uri": "https://localhost:8080/",
          "height": 206
        },
        "id": "powAAEukmAg4",
        "outputId": "98ca5603-827b-4d80-c914-5850898f39b8"
      },
      "source": [
        "df.rename(columns={'TRADEDATE': 'date', 'OPEN': 'open', 'HIGH': 'high', 'LOW': 'low', 'CLOSE': 'close'}, inplace=True)\n",
        "df.head()"
      ],
      "execution_count": 7,
      "outputs": [
        {
          "output_type": "execute_result",
          "data": {
            "text/html": [
              "\n",
              "  <div id=\"df-f2bd1000-3b71-4685-a0e5-d9e14448bc45\">\n",
              "    <div class=\"colab-df-container\">\n",
              "      <div>\n",
              "<style scoped>\n",
              "    .dataframe tbody tr th:only-of-type {\n",
              "        vertical-align: middle;\n",
              "    }\n",
              "\n",
              "    .dataframe tbody tr th {\n",
              "        vertical-align: top;\n",
              "    }\n",
              "\n",
              "    .dataframe thead th {\n",
              "        text-align: right;\n",
              "    }\n",
              "</style>\n",
              "<table border=\"1\" class=\"dataframe\">\n",
              "  <thead>\n",
              "    <tr style=\"text-align: right;\">\n",
              "      <th></th>\n",
              "      <th>date</th>\n",
              "      <th>open</th>\n",
              "      <th>high</th>\n",
              "      <th>low</th>\n",
              "      <th>close</th>\n",
              "    </tr>\n",
              "  </thead>\n",
              "  <tbody>\n",
              "    <tr>\n",
              "      <th>0</th>\n",
              "      <td>1999-06-29</td>\n",
              "      <td>24.3000</td>\n",
              "      <td>24.350</td>\n",
              "      <td>24.200</td>\n",
              "      <td>24.2249</td>\n",
              "    </tr>\n",
              "    <tr>\n",
              "      <th>1</th>\n",
              "      <td>1999-06-30</td>\n",
              "      <td>24.2201</td>\n",
              "      <td>24.224</td>\n",
              "      <td>24.201</td>\n",
              "      <td>24.2100</td>\n",
              "    </tr>\n",
              "    <tr>\n",
              "      <th>2</th>\n",
              "      <td>1999-07-01</td>\n",
              "      <td>24.2100</td>\n",
              "      <td>24.220</td>\n",
              "      <td>24.202</td>\n",
              "      <td>24.2150</td>\n",
              "    </tr>\n",
              "    <tr>\n",
              "      <th>3</th>\n",
              "      <td>1999-07-02</td>\n",
              "      <td>24.2200</td>\n",
              "      <td>24.460</td>\n",
              "      <td>24.220</td>\n",
              "      <td>24.3500</td>\n",
              "    </tr>\n",
              "    <tr>\n",
              "      <th>4</th>\n",
              "      <td>1999-07-06</td>\n",
              "      <td>24.4000</td>\n",
              "      <td>24.550</td>\n",
              "      <td>24.300</td>\n",
              "      <td>24.4850</td>\n",
              "    </tr>\n",
              "  </tbody>\n",
              "</table>\n",
              "</div>\n",
              "      <button class=\"colab-df-convert\" onclick=\"convertToInteractive('df-f2bd1000-3b71-4685-a0e5-d9e14448bc45')\"\n",
              "              title=\"Convert this dataframe to an interactive table.\"\n",
              "              style=\"display:none;\">\n",
              "        \n",
              "  <svg xmlns=\"http://www.w3.org/2000/svg\" height=\"24px\"viewBox=\"0 0 24 24\"\n",
              "       width=\"24px\">\n",
              "    <path d=\"M0 0h24v24H0V0z\" fill=\"none\"/>\n",
              "    <path d=\"M18.56 5.44l.94 2.06.94-2.06 2.06-.94-2.06-.94-.94-2.06-.94 2.06-2.06.94zm-11 1L8.5 8.5l.94-2.06 2.06-.94-2.06-.94L8.5 2.5l-.94 2.06-2.06.94zm10 10l.94 2.06.94-2.06 2.06-.94-2.06-.94-.94-2.06-.94 2.06-2.06.94z\"/><path d=\"M17.41 7.96l-1.37-1.37c-.4-.4-.92-.59-1.43-.59-.52 0-1.04.2-1.43.59L10.3 9.45l-7.72 7.72c-.78.78-.78 2.05 0 2.83L4 21.41c.39.39.9.59 1.41.59.51 0 1.02-.2 1.41-.59l7.78-7.78 2.81-2.81c.8-.78.8-2.07 0-2.86zM5.41 20L4 18.59l7.72-7.72 1.47 1.35L5.41 20z\"/>\n",
              "  </svg>\n",
              "      </button>\n",
              "      \n",
              "  <style>\n",
              "    .colab-df-container {\n",
              "      display:flex;\n",
              "      flex-wrap:wrap;\n",
              "      gap: 12px;\n",
              "    }\n",
              "\n",
              "    .colab-df-convert {\n",
              "      background-color: #E8F0FE;\n",
              "      border: none;\n",
              "      border-radius: 50%;\n",
              "      cursor: pointer;\n",
              "      display: none;\n",
              "      fill: #1967D2;\n",
              "      height: 32px;\n",
              "      padding: 0 0 0 0;\n",
              "      width: 32px;\n",
              "    }\n",
              "\n",
              "    .colab-df-convert:hover {\n",
              "      background-color: #E2EBFA;\n",
              "      box-shadow: 0px 1px 2px rgba(60, 64, 67, 0.3), 0px 1px 3px 1px rgba(60, 64, 67, 0.15);\n",
              "      fill: #174EA6;\n",
              "    }\n",
              "\n",
              "    [theme=dark] .colab-df-convert {\n",
              "      background-color: #3B4455;\n",
              "      fill: #D2E3FC;\n",
              "    }\n",
              "\n",
              "    [theme=dark] .colab-df-convert:hover {\n",
              "      background-color: #434B5C;\n",
              "      box-shadow: 0px 1px 3px 1px rgba(0, 0, 0, 0.15);\n",
              "      filter: drop-shadow(0px 1px 2px rgba(0, 0, 0, 0.3));\n",
              "      fill: #FFFFFF;\n",
              "    }\n",
              "  </style>\n",
              "\n",
              "      <script>\n",
              "        const buttonEl =\n",
              "          document.querySelector('#df-f2bd1000-3b71-4685-a0e5-d9e14448bc45 button.colab-df-convert');\n",
              "        buttonEl.style.display =\n",
              "          google.colab.kernel.accessAllowed ? 'block' : 'none';\n",
              "\n",
              "        async function convertToInteractive(key) {\n",
              "          const element = document.querySelector('#df-f2bd1000-3b71-4685-a0e5-d9e14448bc45');\n",
              "          const dataTable =\n",
              "            await google.colab.kernel.invokeFunction('convertToInteractive',\n",
              "                                                     [key], {});\n",
              "          if (!dataTable) return;\n",
              "\n",
              "          const docLinkHtml = 'Like what you see? Visit the ' +\n",
              "            '<a target=\"_blank\" href=https://colab.research.google.com/notebooks/data_table.ipynb>data table notebook</a>'\n",
              "            + ' to learn more about interactive tables.';\n",
              "          element.innerHTML = '';\n",
              "          dataTable['output_type'] = 'display_data';\n",
              "          await google.colab.output.renderOutput(dataTable, element);\n",
              "          const docLink = document.createElement('div');\n",
              "          docLink.innerHTML = docLinkHtml;\n",
              "          element.appendChild(docLink);\n",
              "        }\n",
              "      </script>\n",
              "    </div>\n",
              "  </div>\n",
              "  "
            ],
            "text/plain": [
              "        date     open    high     low    close\n",
              "0 1999-06-29  24.3000  24.350  24.200  24.2249\n",
              "1 1999-06-30  24.2201  24.224  24.201  24.2100\n",
              "2 1999-07-01  24.2100  24.220  24.202  24.2150\n",
              "3 1999-07-02  24.2200  24.460  24.220  24.3500\n",
              "4 1999-07-06  24.4000  24.550  24.300  24.4850"
            ]
          },
          "metadata": {},
          "execution_count": 7
        }
      ]
    },
    {
      "cell_type": "code",
      "metadata": {
        "id": "BIekJezm0jRV"
      },
      "source": [
        "df.to_csv('/content/drive/MyDrive/usdrub.csv', index=False)"
      ],
      "execution_count": null,
      "outputs": []
    }
  ]
}
